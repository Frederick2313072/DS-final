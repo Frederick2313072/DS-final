{
  "cells": [
    {
      "cell_type": "raw",
      "metadata": {
        "vscode": {
          "languageId": "raw"
        }
      },
      "source": [
        "# IMO主要参赛国家表现趋势分析\n",
        "\n",
        "本分析选择参与年份最多的5个国家，探讨它们的：\n",
        "- 历年总分变化趋势\n",
        "- 获奖情况统计\n",
        "- 在不同题目上的表现特点\n"
      ]
    },
    {
      "cell_type": "code",
      "execution_count": null,
      "metadata": {},
      "outputs": [],
      "source": [
        "import pandas as pd\n",
        "import numpy as np\n",
        "import matplotlib.pyplot as plt\n",
        "\n",
        "# 设置中文显示\n",
        "plt.rcParams['font.sans-serif'] = ['Microsoft YaHei', 'SimHei', 'Arial Unicode MS']\n",
        "plt.rcParams['axes.unicode_minus'] = False\n",
        "\n",
        "# 读取数据\n",
        "df = pd.read_csv('individual_results_df.csv')\n",
        "\n",
        "# 获取参与年份最多的5个国家\n",
        "participation_years = df.groupby('country')['year'].nunique().sort_values(ascending=False)\n",
        "top_5_countries = participation_years.head(5).index.tolist()\n",
        "\n",
        "# 这些国家的历年平均总分变化\n",
        "plt.figure(figsize=(12, 6))\n",
        "for country in top_5_countries:\n",
        "    country_data = df[df['country'] == country].groupby('year')['total'].mean()\n",
        "    plt.plot(country_data.index, country_data.values, label=country, marker='o')\n",
        "plt.title('主要参赛国家的历年平均总分变化')\n",
        "plt.xlabel('年份')\n",
        "plt.ylabel('平均总分')\n",
        "plt.legend()\n",
        "plt.grid(True, alpha=0.3)\n",
        "plt.show()\n",
        "\n",
        "# 这些国家的获奖情况\n",
        "award_counts = df[df['country'].isin(top_5_countries)].groupby(['country', 'award']).size().unstack(fill_value=0)\n",
        "\n",
        "plt.figure(figsize=(12, 6))\n",
        "award_counts.plot(kind='bar', stacked=True)\n",
        "plt.title('主要参赛国家的获奖情况')\n",
        "plt.xlabel('国家')\n",
        "plt.ylabel('获奖数量')\n",
        "plt.legend(title='奖项')\n",
        "plt.xticks(rotation=45)\n",
        "plt.grid(True, alpha=0.3)\n",
        "plt.show()\n",
        "\n",
        "# 这些国家在不同题目上的平均表现\n",
        "problem_performance = df[df['country'].isin(top_5_countries)].groupby('country')[['p1', 'p2', 'p3', 'p4', 'p5', 'p6']].mean()\n",
        "\n",
        "plt.figure(figsize=(12, 6))\n",
        "problem_performance.plot(kind='bar')\n",
        "plt.title('主要参赛国家在各题目上的平均表现')\n",
        "plt.xlabel('国家')\n",
        "plt.ylabel('平均分')\n",
        "plt.legend(title='题目编号')\n",
        "plt.xticks(rotation=45)\n",
        "plt.grid(True, alpha=0.3)\n",
        "plt.show()\n"
      ]
    }
  ],
  "metadata": {
    "kernelspec": {
      "display_name": "Python 3",
      "language": "python",
      "name": "python3"
    },
    "language_info": {
      "name": "python",
      "version": "3.13.1"
    }
  },
  "nbformat": 4,
  "nbformat_minor": 2
}
